{
 "cells": [
  {
   "cell_type": "code",
   "execution_count": 1,
   "metadata": {},
   "outputs": [
    {
     "name": "stderr",
     "output_type": "stream",
     "text": [
      "C:\\Users\\DX\\Anaconda3\\lib\\site-packages\\sklearn\\cross_validation.py:41: DeprecationWarning: This module was deprecated in version 0.18 in favor of the model_selection module into which all the refactored classes and functions are moved. Also note that the interface of the new CV iterators are different from that of this module. This module will be removed in 0.20.\n",
      "  \"This module will be removed in 0.20.\", DeprecationWarning)\n"
     ]
    }
   ],
   "source": [
    "import pandas as pd # to import data and othe functions\n",
    "import numpy as np # to do mathametical operation\n",
    "import string #for text pre-processing\n",
    "from nltk.corpus import stopwords #for removing stopwords\n",
    "import re #Regular expression operations\n",
    "import xgboost as xgb #For predicting the values\n",
    "from sklearn.model_selection import KFold #for cross validations(CV)\n",
    "from sklearn import metrics #for getting CV score\n",
    "from collections import Counter #counting of words in the texts\n",
    "import operator\n",
    "from nltk import ngrams\n",
    "import nltk # major package for language processing\n",
    "from nltk import word_tokenize # for toconizing\n",
    "import matplotlib.pyplot as plt"
   ]
  },
  {
   "cell_type": "code",
   "execution_count": 2,
   "metadata": {},
   "outputs": [],
   "source": [
    "training_df = pd.read_csv('train.csv')\n",
    "testing_df=pd.read_csv('test.csv')"
   ]
  },
  {
   "cell_type": "code",
   "execution_count": 3,
   "metadata": {},
   "outputs": [
    {
     "data": {
      "text/html": [
       "<div>\n",
       "<style>\n",
       "    .dataframe thead tr:only-child th {\n",
       "        text-align: right;\n",
       "    }\n",
       "\n",
       "    .dataframe thead th {\n",
       "        text-align: left;\n",
       "    }\n",
       "\n",
       "    .dataframe tbody tr th {\n",
       "        vertical-align: top;\n",
       "    }\n",
       "</style>\n",
       "<table border=\"1\" class=\"dataframe\">\n",
       "  <thead>\n",
       "    <tr style=\"text-align: right;\">\n",
       "      <th></th>\n",
       "      <th>id</th>\n",
       "      <th>text</th>\n",
       "      <th>author</th>\n",
       "    </tr>\n",
       "  </thead>\n",
       "  <tbody>\n",
       "    <tr>\n",
       "      <th>0</th>\n",
       "      <td>id26305</td>\n",
       "      <td>This process, however, afforded me no means of...</td>\n",
       "      <td>EAP</td>\n",
       "    </tr>\n",
       "    <tr>\n",
       "      <th>1</th>\n",
       "      <td>id17569</td>\n",
       "      <td>It never once occurred to me that the fumbling...</td>\n",
       "      <td>HPL</td>\n",
       "    </tr>\n",
       "    <tr>\n",
       "      <th>2</th>\n",
       "      <td>id11008</td>\n",
       "      <td>In his left hand was a gold snuff box, from wh...</td>\n",
       "      <td>EAP</td>\n",
       "    </tr>\n",
       "    <tr>\n",
       "      <th>3</th>\n",
       "      <td>id27763</td>\n",
       "      <td>How lovely is spring As we looked from Windsor...</td>\n",
       "      <td>MWS</td>\n",
       "    </tr>\n",
       "    <tr>\n",
       "      <th>4</th>\n",
       "      <td>id12958</td>\n",
       "      <td>Finding nothing else, not even gold, the Super...</td>\n",
       "      <td>HPL</td>\n",
       "    </tr>\n",
       "  </tbody>\n",
       "</table>\n",
       "</div>"
      ],
      "text/plain": [
       "        id                                               text author\n",
       "0  id26305  This process, however, afforded me no means of...    EAP\n",
       "1  id17569  It never once occurred to me that the fumbling...    HPL\n",
       "2  id11008  In his left hand was a gold snuff box, from wh...    EAP\n",
       "3  id27763  How lovely is spring As we looked from Windsor...    MWS\n",
       "4  id12958  Finding nothing else, not even gold, the Super...    HPL"
      ]
     },
     "execution_count": 3,
     "metadata": {},
     "output_type": "execute_result"
    }
   ],
   "source": [
    "training_df.head()"
   ]
  },
  {
   "cell_type": "code",
   "execution_count": 4,
   "metadata": {},
   "outputs": [
    {
     "data": {
      "text/html": [
       "<div>\n",
       "<style>\n",
       "    .dataframe thead tr:only-child th {\n",
       "        text-align: right;\n",
       "    }\n",
       "\n",
       "    .dataframe thead th {\n",
       "        text-align: left;\n",
       "    }\n",
       "\n",
       "    .dataframe tbody tr th {\n",
       "        vertical-align: top;\n",
       "    }\n",
       "</style>\n",
       "<table border=\"1\" class=\"dataframe\">\n",
       "  <thead>\n",
       "    <tr style=\"text-align: right;\">\n",
       "      <th></th>\n",
       "      <th>author</th>\n",
       "      <th>id</th>\n",
       "      <th>text</th>\n",
       "    </tr>\n",
       "  </thead>\n",
       "  <tbody>\n",
       "    <tr>\n",
       "      <th>0</th>\n",
       "      <td>EAP</td>\n",
       "      <td>7900</td>\n",
       "      <td>7900</td>\n",
       "    </tr>\n",
       "    <tr>\n",
       "      <th>1</th>\n",
       "      <td>HPL</td>\n",
       "      <td>5635</td>\n",
       "      <td>5635</td>\n",
       "    </tr>\n",
       "    <tr>\n",
       "      <th>2</th>\n",
       "      <td>MWS</td>\n",
       "      <td>6044</td>\n",
       "      <td>6044</td>\n",
       "    </tr>\n",
       "  </tbody>\n",
       "</table>\n",
       "</div>"
      ],
      "text/plain": [
       "  author    id  text\n",
       "0    EAP  7900  7900\n",
       "1    HPL  5635  5635\n",
       "2    MWS  6044  6044"
      ]
     },
     "execution_count": 4,
     "metadata": {},
     "output_type": "execute_result"
    }
   ],
   "source": [
    "# checking the contribution of each author\n",
    "training_author_df=training_df.groupby('author',as_index=False).count()\n",
    "training_author_df"
   ]
  },
  {
   "cell_type": "code",
   "execution_count": 5,
   "metadata": {},
   "outputs": [
    {
     "data": {
      "image/png": "[encoded data removed]",
      "text/plain": [
       "<matplotlib.figure.Figure at 0x13f9be10>"
      ]
     },
     "metadata": {},
     "output_type": "display_data"
    }
   ],
   "source": [
    "objects = training_author_df['author']  #storing values of authors in objects\n",
    "y_pos = np.arange(len(objects)) #creating numpy array for the count of authors\n",
    "ids = training_author_df['id'] #assignig values of id for each author\n",
    " \n",
    "plt.bar(y_pos, ids, align='center', alpha=0.4,color = 'bgk') #basic configuration for bar chart\n",
    "plt.xticks(y_pos, objects) #assigning Labels to be displayed on X-axis\n",
    "plt.ylabel('Input Count') \n",
    "plt.title('Inputs per author')\n",
    " \n",
    "plt.show()"
   ]
  },
  {
   "cell_type": "markdown",
   "metadata": {},
   "source": [
    "Starting preprocessing of text "
   ]
  },
  {
   "cell_type": "code",
   "execution_count": 6,
   "metadata": {},
   "outputs": [
    {
     "data": {
      "text/plain": [
       "'This process, however, afforded me no means of ascertaining the dimensions of my dungeon; as I might make its circuit, and return to the point whence I set out, without being aware of the fact; so perfectly uniform seemed the wall.'"
      ]
     },
     "execution_count": 6,
     "metadata": {},
     "output_type": "execute_result"
    }
   ],
   "source": [
    "# taking in the first field\n",
    "text_string=training_df.iloc[0]['text']\n",
    "text_string"
   ]
  },
  {
   "cell_type": "code",
   "execution_count": 7,
   "metadata": {},
   "outputs": [
    {
     "data": {
      "text/plain": [
       "'!\"#$%&\\'()*+,-./:;<=>?@[\\\\]^_`{|}~'"
      ]
     },
     "execution_count": 7,
     "metadata": {},
     "output_type": "execute_result"
    }
   ],
   "source": [
    "#1st lecvel of cleaning. Cleaning punctuation \n",
    "string.punctuation\n"
   ]
  },
  {
   "cell_type": "code",
   "execution_count": 8,
   "metadata": {},
   "outputs": [
    {
     "name": "stdout",
     "output_type": "stream",
     "text": [
      "After processing\n"
     ]
    },
    {
     "data": {
      "text/plain": [
       "'this process  however  afforded me no means of ascertaining the dimensions of my dungeon  as i might make its circuit  and return to the point whence i set out  without being aware of the fact  so perfectly uniform seemed the wall '"
      ]
     },
     "execution_count": 8,
     "metadata": {},
     "output_type": "execute_result"
    }
   ],
   "source": [
    "# creating function to remove punctuation.\n",
    "def remove_punctuation_from_string(string1):\n",
    "    string1=string1.lower() # changing to lower case\n",
    "    translation_table=dict.fromkeys(map(ord,string.punctuation),' ')\n",
    "    string2=string1.translate(translation_table)\n",
    "    return string2\n",
    "print('After processing')\n",
    "test_string=remove_punctuation_from_string(text_string)\n",
    "test_string\n"
   ]
  },
  {
   "cell_type": "code",
   "execution_count": 9,
   "metadata": {},
   "outputs": [
    {
     "data": {
      "text/html": [
       "<div>\n",
       "<style>\n",
       "    .dataframe thead tr:only-child th {\n",
       "        text-align: right;\n",
       "    }\n",
       "\n",
       "    .dataframe thead th {\n",
       "        text-align: left;\n",
       "    }\n",
       "\n",
       "    .dataframe tbody tr th {\n",
       "        vertical-align: top;\n",
       "    }\n",
       "</style>\n",
       "<table border=\"1\" class=\"dataframe\">\n",
       "  <thead>\n",
       "    <tr style=\"text-align: right;\">\n",
       "      <th></th>\n",
       "      <th>id</th>\n",
       "      <th>text</th>\n",
       "      <th>author</th>\n",
       "    </tr>\n",
       "  </thead>\n",
       "  <tbody>\n",
       "    <tr>\n",
       "      <th>0</th>\n",
       "      <td>id26305</td>\n",
       "      <td>This process, however, afforded me no means of...</td>\n",
       "      <td>EAP</td>\n",
       "    </tr>\n",
       "    <tr>\n",
       "      <th>1</th>\n",
       "      <td>id17569</td>\n",
       "      <td>It never once occurred to me that the fumbling...</td>\n",
       "      <td>HPL</td>\n",
       "    </tr>\n",
       "    <tr>\n",
       "      <th>2</th>\n",
       "      <td>id11008</td>\n",
       "      <td>In his left hand was a gold snuff box, from wh...</td>\n",
       "      <td>EAP</td>\n",
       "    </tr>\n",
       "    <tr>\n",
       "      <th>3</th>\n",
       "      <td>id27763</td>\n",
       "      <td>How lovely is spring As we looked from Windsor...</td>\n",
       "      <td>MWS</td>\n",
       "    </tr>\n",
       "    <tr>\n",
       "      <th>4</th>\n",
       "      <td>id12958</td>\n",
       "      <td>Finding nothing else, not even gold, the Super...</td>\n",
       "      <td>HPL</td>\n",
       "    </tr>\n",
       "  </tbody>\n",
       "</table>\n",
       "</div>"
      ],
      "text/plain": [
       "        id                                               text author\n",
       "0  id26305  This process, however, afforded me no means of...    EAP\n",
       "1  id17569  It never once occurred to me that the fumbling...    HPL\n",
       "2  id11008  In his left hand was a gold snuff box, from wh...    EAP\n",
       "3  id27763  How lovely is spring As we looked from Windsor...    MWS\n",
       "4  id12958  Finding nothing else, not even gold, the Super...    HPL"
      ]
     },
     "execution_count": 9,
     "metadata": {},
     "output_type": "execute_result"
    }
   ],
   "source": [
    "# now removing stop words from the string\n",
    "training_df.head(5)\n"
   ]
  },
  {
   "cell_type": "code",
   "execution_count": 10,
   "metadata": {},
   "outputs": [
    {
     "name": "stdout",
     "output_type": "stream",
     "text": [
      "After processing\n"
     ]
    },
    {
     "data": {
      "text/plain": [
       "'process  however  afforded means ascertaining dimensions dungeon  might make circuit  return point whence set without aware fact  perfectly uniform seemed wall '"
      ]
     },
     "execution_count": 10,
     "metadata": {},
     "output_type": "execute_result"
    }
   ],
   "source": [
    "def remove_stopwords_from_string(string1):\n",
    "    pattern = re.compile(r'\\b(' + r'|'.join(stopwords.words('english')) + r')\\b\\s*') #compiling all stopwords.\n",
    "    string2 = pattern.sub('', string1) #replacing the occurrences of stopwords in string1\n",
    "    return string2\n",
    "\n",
    "print('After processing')\n",
    "test_string = remove_stopwords_from_string(test_string)\n",
    "test_string"
   ]
  },
  {
   "cell_type": "code",
   "execution_count": 11,
   "metadata": {},
   "outputs": [],
   "source": [
    "# creating backup\n",
    "training_df['text_backup']=training_df['text']\n",
    "testing_df['text_backup']=testing_df['text']"
   ]
  },
  {
   "cell_type": "code",
   "execution_count": 12,
   "metadata": {},
   "outputs": [],
   "source": [
    "# usiing apply to remove the unwanted words.\n",
    "training_df['text']=training_df['text'].apply(lambda x: remove_punctuation_from_string(x))\n",
    "training_df['text']=training_df['text'].apply(lambda x: remove_stopwords_from_string(x))\n",
    "testing_df['text']=testing_df['text'].apply(lambda x: remove_stopwords_from_string(x))\n",
    "testing_df['text']=testing_df['text'].apply(lambda x: remove_punctuation_from_string(x))\n"
   ]
  },
  {
   "cell_type": "code",
   "execution_count": 13,
   "metadata": {},
   "outputs": [
    {
     "data": {
      "text/html": [
       "<div>\n",
       "<style>\n",
       "    .dataframe thead tr:only-child th {\n",
       "        text-align: right;\n",
       "    }\n",
       "\n",
       "    .dataframe thead th {\n",
       "        text-align: left;\n",
       "    }\n",
       "\n",
       "    .dataframe tbody tr th {\n",
       "        vertical-align: top;\n",
       "    }\n",
       "</style>\n",
       "<table border=\"1\" class=\"dataframe\">\n",
       "  <thead>\n",
       "    <tr style=\"text-align: right;\">\n",
       "      <th></th>\n",
       "      <th>id</th>\n",
       "      <th>text</th>\n",
       "      <th>author</th>\n",
       "      <th>text_backup</th>\n",
       "    </tr>\n",
       "  </thead>\n",
       "  <tbody>\n",
       "    <tr>\n",
       "      <th>0</th>\n",
       "      <td>id26305</td>\n",
       "      <td>process  however  afforded means ascertaining ...</td>\n",
       "      <td>EAP</td>\n",
       "      <td>This process, however, afforded me no means of...</td>\n",
       "    </tr>\n",
       "    <tr>\n",
       "      <th>1</th>\n",
       "      <td>id17569</td>\n",
       "      <td>never occurred fumbling might mere mistake</td>\n",
       "      <td>HPL</td>\n",
       "      <td>It never once occurred to me that the fumbling...</td>\n",
       "    </tr>\n",
       "    <tr>\n",
       "      <th>2</th>\n",
       "      <td>id11008</td>\n",
       "      <td>left hand gold snuff box  capered hill  cuttin...</td>\n",
       "      <td>EAP</td>\n",
       "      <td>In his left hand was a gold snuff box, from wh...</td>\n",
       "    </tr>\n",
       "    <tr>\n",
       "      <th>3</th>\n",
       "      <td>id27763</td>\n",
       "      <td>lovely spring looked windsor terrace sixteen f...</td>\n",
       "      <td>MWS</td>\n",
       "      <td>How lovely is spring As we looked from Windsor...</td>\n",
       "    </tr>\n",
       "    <tr>\n",
       "      <th>4</th>\n",
       "      <td>id12958</td>\n",
       "      <td>finding nothing else  even gold  superintenden...</td>\n",
       "      <td>HPL</td>\n",
       "      <td>Finding nothing else, not even gold, the Super...</td>\n",
       "    </tr>\n",
       "  </tbody>\n",
       "</table>\n",
       "</div>"
      ],
      "text/plain": [
       "        id                                               text author  \\\n",
       "0  id26305  process  however  afforded means ascertaining ...    EAP   \n",
       "1  id17569        never occurred fumbling might mere mistake     HPL   \n",
       "2  id11008  left hand gold snuff box  capered hill  cuttin...    EAP   \n",
       "3  id27763  lovely spring looked windsor terrace sixteen f...    MWS   \n",
       "4  id12958  finding nothing else  even gold  superintenden...    HPL   \n",
       "\n",
       "                                         text_backup  \n",
       "0  This process, however, afforded me no means of...  \n",
       "1  It never once occurred to me that the fumbling...  \n",
       "2  In his left hand was a gold snuff box, from wh...  \n",
       "3  How lovely is spring As we looked from Windsor...  \n",
       "4  Finding nothing else, not even gold, the Super...  "
      ]
     },
     "execution_count": 13,
     "metadata": {},
     "output_type": "execute_result"
    }
   ],
   "source": [
    "training_df.head()"
   ]
  },
  {
   "cell_type": "code",
   "execution_count": 14,
   "metadata": {},
   "outputs": [],
   "source": [
    "# now I have cleaned the data. Its time for processing the data and create features from it.\n",
    "#Feature 1 : Finding total words in the sentance\n",
    "training_df['feature1']=training_df['text_backup'].apply(lambda x: len(str(x).split()))\n",
    "testing_df['feature1']=testing_df['text_backup'].apply(lambda x: len(str(x).split()))\n"
   ]
  },
  {
   "cell_type": "code",
   "execution_count": 15,
   "metadata": {},
   "outputs": [],
   "source": [
    "#Feature 2 : Counting no of charecter in a variable\n",
    "training_df['feature2']=training_df['text_backup'].apply(lambda x: len(str(x)))\n",
    "testing_df['feature2']=training_df['text_backup'].apply(lambda x: len(str(x)))"
   ]
  },
  {
   "cell_type": "code",
   "execution_count": 16,
   "metadata": {},
   "outputs": [],
   "source": [
    "#Feature 3 : Avg leangth of words used in the sentance.\n",
    "training_df['feature3']=training_df['feature2']/training_df['feature1']\n",
    "testing_df['feature3']=testing_df['feature2']/testing_df['feature1']"
   ]
  },
  {
   "cell_type": "code",
   "execution_count": 21,
   "metadata": {},
   "outputs": [],
   "source": [
    "# Feature 4: Count total stop words  in a sentence.\n",
    "stop_words=set(stopwords.words('english'))\n",
    "training_df['Feature4']=training_df['text_backup'].apply(lambda x: len([w for w in str(x).lower().split() \n",
    "                                                                       if w in stop_words ]))\n",
    "testing_df['Feature4']=testing_df['text_backup'].apply(lambda x: len([w for w in str(x).lower().split()\n",
    "                                                                    if w in stop_words]))\n",
    "\n",
    "\n",
    "\n",
    "\n"
   ]
  },
  {
   "cell_type": "code",
   "execution_count": 17,
   "metadata": {},
   "outputs": [
    {
     "ename": "AttributeError",
     "evalue": "'builtin_function_or_method' object has no attribute 'split'",
     "output_type": "error",
     "traceback": [
      "\u001b[1;31m---------------------------------------------------------------------------\u001b[0m",
      "\u001b[1;31mAttributeError\u001b[0m                            Traceback (most recent call last)",
      "\u001b[1;32m<ipython-input-17-83343ddfb5c3>\u001b[0m in \u001b[0;36m<module>\u001b[1;34m()\u001b[0m\n\u001b[0;32m     16\u001b[0m \u001b[1;33m\u001b[0m\u001b[0m\n\u001b[0;32m     17\u001b[0m \u001b[1;33m\u001b[0m\u001b[0m\n\u001b[1;32m---> 18\u001b[1;33m testing_df['Feature5']= training_df['text'].apply(lambda x: len([w for w in str(x).lower.split()\n\u001b[0m\u001b[0;32m     19\u001b[0m                                                                 if w in sorted_x]))\n",
      "\u001b[1;32mC:\\Users\\DX\\Anaconda3\\lib\\site-packages\\pandas\\core\\series.py\u001b[0m in \u001b[0;36mapply\u001b[1;34m(self, func, convert_dtype, args, **kwds)\u001b[0m\n\u001b[0;32m   2353\u001b[0m             \u001b[1;32melse\u001b[0m\u001b[1;33m:\u001b[0m\u001b[1;33m\u001b[0m\u001b[0m\n\u001b[0;32m   2354\u001b[0m                 \u001b[0mvalues\u001b[0m \u001b[1;33m=\u001b[0m \u001b[0mself\u001b[0m\u001b[1;33m.\u001b[0m\u001b[0masobject\u001b[0m\u001b[1;33m\u001b[0m\u001b[0m\n\u001b[1;32m-> 2355\u001b[1;33m                 \u001b[0mmapped\u001b[0m \u001b[1;33m=\u001b[0m \u001b[0mlib\u001b[0m\u001b[1;33m.\u001b[0m\u001b[0mmap_infer\u001b[0m\u001b[1;33m(\u001b[0m\u001b[0mvalues\u001b[0m\u001b[1;33m,\u001b[0m \u001b[0mf\u001b[0m\u001b[1;33m,\u001b[0m \u001b[0mconvert\u001b[0m\u001b[1;33m=\u001b[0m\u001b[0mconvert_dtype\u001b[0m\u001b[1;33m)\u001b[0m\u001b[1;33m\u001b[0m\u001b[0m\n\u001b[0m\u001b[0;32m   2356\u001b[0m \u001b[1;33m\u001b[0m\u001b[0m\n\u001b[0;32m   2357\u001b[0m         \u001b[1;32mif\u001b[0m \u001b[0mlen\u001b[0m\u001b[1;33m(\u001b[0m\u001b[0mmapped\u001b[0m\u001b[1;33m)\u001b[0m \u001b[1;32mand\u001b[0m \u001b[0misinstance\u001b[0m\u001b[1;33m(\u001b[0m\u001b[0mmapped\u001b[0m\u001b[1;33m[\u001b[0m\u001b[1;36m0\u001b[0m\u001b[1;33m]\u001b[0m\u001b[1;33m,\u001b[0m \u001b[0mSeries\u001b[0m\u001b[1;33m)\u001b[0m\u001b[1;33m:\u001b[0m\u001b[1;33m\u001b[0m\u001b[0m\n",
      "\u001b[1;32mpandas\\_libs\\src\\inference.pyx\u001b[0m in \u001b[0;36mpandas._libs.lib.map_infer (pandas\\_libs\\lib.c:66440)\u001b[1;34m()\u001b[0m\n",
      "\u001b[1;32m<ipython-input-17-83343ddfb5c3>\u001b[0m in \u001b[0;36m<lambda>\u001b[1;34m(x)\u001b[0m\n\u001b[0;32m     16\u001b[0m \u001b[1;33m\u001b[0m\u001b[0m\n\u001b[0;32m     17\u001b[0m \u001b[1;33m\u001b[0m\u001b[0m\n\u001b[1;32m---> 18\u001b[1;33m testing_df['Feature5']= training_df['text'].apply(lambda x: len([w for w in str(x).lower.split()\n\u001b[0m\u001b[0;32m     19\u001b[0m                                                                 if w in sorted_x]))\n",
      "\u001b[1;31mAttributeError\u001b[0m: 'builtin_function_or_method' object has no attribute 'split'"
     ]
    }
   ],
   "source": [
    "#finding the words that are used the most \n",
    "all_text_without_sw= ''\n",
    "for i in training_df.itertuples():\n",
    "    all_text_without_sw = all_text_without_sw +str(i.text)\n",
    "    #getting count of each word\n",
    "    counts=Counter(re.findall(r\"[\\w']+\", all_text_without_sw))\n",
    "    #deleting from counts\n",
    "    del counts[\"'\"]\n",
    "    # getting top 50 words\n",
    "    sorted_x=dict(sorted(counts.items(), key=operator.itemgetter(1), reverse = True)[:50])\n",
    "    \n",
    "# Feature 5 : The count of top words\n",
    "    \n",
    "training_df['Feature5']= training_df['text'].apply(lambda x: len([w for w in str(x).lower().split() \n",
    "                                                                     if w in sorted_x]))\n",
    "    \n",
    "    \n",
    "testing_df['Feature5']= training_df['text'].apply(lambda x: len([w for w in str(x).lower.split()\n",
    "                                                                if w in sorted_x]))\n"
   ]
  },
  {
   "cell_type": "code",
   "execution_count": 28,
   "metadata": {},
   "outputs": [
    {
     "data": {
      "text/html": [
       "<div>\n",
       "<style>\n",
       "    .dataframe thead tr:only-child th {\n",
       "        text-align: right;\n",
       "    }\n",
       "\n",
       "    .dataframe thead th {\n",
       "        text-align: left;\n",
       "    }\n",
       "\n",
       "    .dataframe tbody tr th {\n",
       "        vertical-align: top;\n",
       "    }\n",
       "</style>\n",
       "<table border=\"1\" class=\"dataframe\">\n",
       "  <thead>\n",
       "    <tr style=\"text-align: right;\">\n",
       "      <th></th>\n",
       "      <th>id</th>\n",
       "      <th>text</th>\n",
       "      <th>author</th>\n",
       "      <th>text_backup</th>\n",
       "      <th>feature1</th>\n",
       "      <th>feature2</th>\n",
       "      <th>feature3</th>\n",
       "      <th>Feature4</th>\n",
       "      <th>Feature5</th>\n",
       "    </tr>\n",
       "  </thead>\n",
       "  <tbody>\n",
       "    <tr>\n",
       "      <th>0</th>\n",
       "      <td>id26305</td>\n",
       "      <td>process  however  afforded means ascertaining ...</td>\n",
       "      <td>EAP</td>\n",
       "      <td>This process, however, afforded me no means of...</td>\n",
       "      <td>41</td>\n",
       "      <td>231</td>\n",
       "      <td>5.634146</td>\n",
       "      <td>19</td>\n",
       "      <td>3</td>\n",
       "    </tr>\n",
       "    <tr>\n",
       "      <th>1</th>\n",
       "      <td>id17569</td>\n",
       "      <td>never occurred fumbling might mere mistake</td>\n",
       "      <td>HPL</td>\n",
       "      <td>It never once occurred to me that the fumbling...</td>\n",
       "      <td>14</td>\n",
       "      <td>71</td>\n",
       "      <td>5.071429</td>\n",
       "      <td>8</td>\n",
       "      <td>2</td>\n",
       "    </tr>\n",
       "    <tr>\n",
       "      <th>2</th>\n",
       "      <td>id11008</td>\n",
       "      <td>left hand gold snuff box  capered hill  cuttin...</td>\n",
       "      <td>EAP</td>\n",
       "      <td>In his left hand was a gold snuff box, from wh...</td>\n",
       "      <td>36</td>\n",
       "      <td>200</td>\n",
       "      <td>5.555556</td>\n",
       "      <td>16</td>\n",
       "      <td>0</td>\n",
       "    </tr>\n",
       "    <tr>\n",
       "      <th>3</th>\n",
       "      <td>id27763</td>\n",
       "      <td>lovely spring looked windsor terrace sixteen f...</td>\n",
       "      <td>MWS</td>\n",
       "      <td>How lovely is spring As we looked from Windsor...</td>\n",
       "      <td>34</td>\n",
       "      <td>206</td>\n",
       "      <td>6.058824</td>\n",
       "      <td>13</td>\n",
       "      <td>1</td>\n",
       "    </tr>\n",
       "    <tr>\n",
       "      <th>4</th>\n",
       "      <td>id12958</td>\n",
       "      <td>finding nothing else  even gold  superintenden...</td>\n",
       "      <td>HPL</td>\n",
       "      <td>Finding nothing else, not even gold, the Super...</td>\n",
       "      <td>27</td>\n",
       "      <td>174</td>\n",
       "      <td>6.444444</td>\n",
       "      <td>11</td>\n",
       "      <td>1</td>\n",
       "    </tr>\n",
       "  </tbody>\n",
       "</table>\n",
       "</div>"
      ],
      "text/plain": [
       "        id                                               text author  \\\n",
       "0  id26305  process  however  afforded means ascertaining ...    EAP   \n",
       "1  id17569        never occurred fumbling might mere mistake     HPL   \n",
       "2  id11008  left hand gold snuff box  capered hill  cuttin...    EAP   \n",
       "3  id27763  lovely spring looked windsor terrace sixteen f...    MWS   \n",
       "4  id12958  finding nothing else  even gold  superintenden...    HPL   \n",
       "\n",
       "                                         text_backup  feature1  feature2  \\\n",
       "0  This process, however, afforded me no means of...        41       231   \n",
       "1  It never once occurred to me that the fumbling...        14        71   \n",
       "2  In his left hand was a gold snuff box, from wh...        36       200   \n",
       "3  How lovely is spring As we looked from Windsor...        34       206   \n",
       "4  Finding nothing else, not even gold, the Super...        27       174   \n",
       "\n",
       "   feature3  Feature4  Feature5  \n",
       "0  5.634146        19         3  \n",
       "1  5.071429         8         2  \n",
       "2  5.555556        16         0  \n",
       "3  6.058824        13         1  \n",
       "4  6.444444        11         1  "
      ]
     },
     "execution_count": 28,
     "metadata": {},
     "output_type": "execute_result"
    }
   ],
   "source": [
    "training_df.head()"
   ]
  },
  {
   "cell_type": "code",
   "execution_count": 27,
   "metadata": {},
   "outputs": [],
   "source": [
    "training_df.to_csv('backup f1.csv')"
   ]
  },
  {
   "cell_type": "code",
   "execution_count": 32,
   "metadata": {},
   "outputs": [],
   "source": [
    "testing_df.to_csv('testbackup f1.csv')"
   ]
  },
  {
   "cell_type": "code",
   "execution_count": 37,
   "metadata": {},
   "outputs": [],
   "source": [
    "# Feature 6 : least used words\n",
    "reverted_x=dict(sorted(counts.items(), key=operator.itemgetter(1))[:1000])\n",
    "\n",
    "training_df['Feature6']=training_df['text'].apply(lambda x: len ([w for w in str(x).lower().split() \n",
    "                                                                  if w in reverted_x]))\n",
    "\n",
    "testing_df['Feature6']=training_df['text'].apply(lambda x: len([w for w in str(x).lower().split()\n",
    "                                                               if w in reverted_x]))\n",
    "\n"
   ]
  },
  {
   "cell_type": "code",
   "execution_count": 39,
   "metadata": {},
   "outputs": [],
   "source": [
    "# Feature 7 : Find the total no of puntuation\n",
    "training_df['Feature7']= training_df['text_backup'].apply(lambda x: len([w for w in str(x) \n",
    "                                                                         if w in string.punctuation]))\n",
    "testing_df['Feature7']=testing_df['text_backup'].apply(lambda x : len ([w for w in str(x) if w in string.punctuation]))"
   ]
  },
  {
   "cell_type": "code",
   "execution_count": 40,
   "metadata": {},
   "outputs": [],
   "source": [
    "training_df.to_csv('backup f1.csv', )\n",
    "testing_df.to_csv('testbackup f1.csv')\n",
    "\n"
   ]
  },
  {
   "cell_type": "code",
   "execution_count": 3,
   "metadata": {},
   "outputs": [],
   "source": [
    "training_df = pd.read_csv('backup f1.csv',encoding='latin-1')\n",
    "testing_df=pd.read_csv('testbackup f1.csv', encoding='latin-1')"
   ]
  },
  {
   "cell_type": "code",
   "execution_count": 4,
   "metadata": {},
   "outputs": [
    {
     "data": {
      "text/html": [
       "<div>\n",
       "<style>\n",
       "    .dataframe thead tr:only-child th {\n",
       "        text-align: right;\n",
       "    }\n",
       "\n",
       "    .dataframe thead th {\n",
       "        text-align: left;\n",
       "    }\n",
       "\n",
       "    .dataframe tbody tr th {\n",
       "        vertical-align: top;\n",
       "    }\n",
       "</style>\n",
       "<table border=\"1\" class=\"dataframe\">\n",
       "  <thead>\n",
       "    <tr style=\"text-align: right;\">\n",
       "      <th></th>\n",
       "      <th>Unnamed: 0</th>\n",
       "      <th>id</th>\n",
       "      <th>text</th>\n",
       "      <th>author</th>\n",
       "      <th>text_backup</th>\n",
       "      <th>feature1</th>\n",
       "      <th>feature2</th>\n",
       "      <th>feature3</th>\n",
       "      <th>Feature4</th>\n",
       "      <th>Feature5</th>\n",
       "      <th>Feature6</th>\n",
       "      <th>Feature7</th>\n",
       "    </tr>\n",
       "  </thead>\n",
       "  <tbody>\n",
       "    <tr>\n",
       "      <th>0</th>\n",
       "      <td>0</td>\n",
       "      <td>id26305</td>\n",
       "      <td>process  however  afforded means ascertaining ...</td>\n",
       "      <td>EAP</td>\n",
       "      <td>This process, however, afforded me no means of...</td>\n",
       "      <td>41</td>\n",
       "      <td>231</td>\n",
       "      <td>5.634146</td>\n",
       "      <td>19</td>\n",
       "      <td>3</td>\n",
       "      <td>0</td>\n",
       "      <td>7</td>\n",
       "    </tr>\n",
       "    <tr>\n",
       "      <th>1</th>\n",
       "      <td>1</td>\n",
       "      <td>id17569</td>\n",
       "      <td>never occurred fumbling might mere mistake</td>\n",
       "      <td>HPL</td>\n",
       "      <td>It never once occurred to me that the fumbling...</td>\n",
       "      <td>14</td>\n",
       "      <td>71</td>\n",
       "      <td>5.071429</td>\n",
       "      <td>8</td>\n",
       "      <td>2</td>\n",
       "      <td>0</td>\n",
       "      <td>1</td>\n",
       "    </tr>\n",
       "    <tr>\n",
       "      <th>2</th>\n",
       "      <td>2</td>\n",
       "      <td>id11008</td>\n",
       "      <td>left hand gold snuff box  capered hill  cuttin...</td>\n",
       "      <td>EAP</td>\n",
       "      <td>In his left hand was a gold snuff box, from wh...</td>\n",
       "      <td>36</td>\n",
       "      <td>200</td>\n",
       "      <td>5.555556</td>\n",
       "      <td>16</td>\n",
       "      <td>0</td>\n",
       "      <td>1</td>\n",
       "      <td>5</td>\n",
       "    </tr>\n",
       "    <tr>\n",
       "      <th>3</th>\n",
       "      <td>3</td>\n",
       "      <td>id27763</td>\n",
       "      <td>lovely spring looked windsor terrace sixteen f...</td>\n",
       "      <td>MWS</td>\n",
       "      <td>How lovely is spring As we looked from Windsor...</td>\n",
       "      <td>34</td>\n",
       "      <td>206</td>\n",
       "      <td>6.058824</td>\n",
       "      <td>13</td>\n",
       "      <td>1</td>\n",
       "      <td>0</td>\n",
       "      <td>4</td>\n",
       "    </tr>\n",
       "    <tr>\n",
       "      <th>4</th>\n",
       "      <td>4</td>\n",
       "      <td>id12958</td>\n",
       "      <td>finding nothing else  even gold  superintenden...</td>\n",
       "      <td>HPL</td>\n",
       "      <td>Finding nothing else, not even gold, the Super...</td>\n",
       "      <td>27</td>\n",
       "      <td>174</td>\n",
       "      <td>6.444444</td>\n",
       "      <td>11</td>\n",
       "      <td>1</td>\n",
       "      <td>0</td>\n",
       "      <td>4</td>\n",
       "    </tr>\n",
       "  </tbody>\n",
       "</table>\n",
       "</div>"
      ],
      "text/plain": [
       "   Unnamed: 0       id                                               text  \\\n",
       "0           0  id26305  process  however  afforded means ascertaining ...   \n",
       "1           1  id17569        never occurred fumbling might mere mistake    \n",
       "2           2  id11008  left hand gold snuff box  capered hill  cuttin...   \n",
       "3           3  id27763  lovely spring looked windsor terrace sixteen f...   \n",
       "4           4  id12958  finding nothing else  even gold  superintenden...   \n",
       "\n",
       "  author                                        text_backup  feature1  \\\n",
       "0    EAP  This process, however, afforded me no means of...        41   \n",
       "1    HPL  It never once occurred to me that the fumbling...        14   \n",
       "2    EAP  In his left hand was a gold snuff box, from wh...        36   \n",
       "3    MWS  How lovely is spring As we looked from Windsor...        34   \n",
       "4    HPL  Finding nothing else, not even gold, the Super...        27   \n",
       "\n",
       "   feature2  feature3  Feature4  Feature5  Feature6  Feature7  \n",
       "0       231  5.634146        19         3         0         7  \n",
       "1        71  5.071429         8         2         0         1  \n",
       "2       200  5.555556        16         0         1         5  \n",
       "3       206  6.058824        13         1         0         4  \n",
       "4       174  6.444444        11         1         0         4  "
      ]
     },
     "execution_count": 4,
     "metadata": {},
     "output_type": "execute_result"
    }
   ],
   "source": [
    "training_df.head()"
   ]
  },
  {
   "cell_type": "code",
   "execution_count": 12,
   "metadata": {},
   "outputs": [],
   "source": [
    "#Feature-8: Count of UPPER case words.\n",
    "\n",
    "training_df['Feature8']=training_df['text'].apply(lambda x: len([w for w in str(x).replace('I','i')\n",
    "                                                                 .replace('A','a').split() if w.isupper()==True])) \n",
    "testing_df['Feature8']=testing_df['text'].apply(lambda x: len ([ w for w in str(x).replace('I','i')\n",
    "                                                                 .replace('A','a').split() if w.upper==True]))\n",
    "\n",
    "\n"
   ]
  },
  {
   "cell_type": "code",
   "execution_count": 13,
   "metadata": {},
   "outputs": [],
   "source": [
    "#Feature-9: Count of Title case words\n",
    "\n",
    "training_df['Feature9']= training_df['text'].apply(lambda x: len([w for w in str(x).replace('I','i')\n",
    "                                                                  .replace('A','a').split() if w.istitle==True]) )\n",
    "testing_df['Feature9']=testing_df['text'].apply(lambda x: len([w for w in str(x).replace('I','i')\n",
    "                                                              .replace('A','a').split() if w.istitle==True]))"
   ]
  },
  {
   "cell_type": "code",
   "execution_count": 22,
   "metadata": {},
   "outputs": [],
   "source": [
    "starting_words = sorted(list(map(lambda word : word[:2],filter(lambda word :\n",
    "                                                               len(word) > 3,all_text_without_sw.split()))))\n",
    "sw_counts = Counter(starting_words)\n",
    "top_30_sw = dict(sorted(sw_counts.items(), key=operator.itemgetter(1),reverse=True)[:30])\n",
    "\n",
    "\n",
    "\n",
    "#Feature-10: Count of (Most words start with)\n",
    "training_df['Feature_10'] = training_df['text'].apply(lambda x: \n",
    "                                                      len([w for w in str(x).lower().split()\n",
    "                                                           if w[:2] in top_30_sw and w not in stop_words]) )\n",
    "testing_df['Feature_10'] = testing_df['text'].apply(lambda x: \n",
    "                                                    len([w for w in str(x).lower().split() \n",
    "                                                         if w[:2] in top_30_sw and w not in stop_words]) )\n",
    "\n"
   ]
  },
  {
   "cell_type": "code",
   "execution_count": 23,
   "metadata": {},
   "outputs": [],
   "source": [
    "#Feature-11: Count of (Most words end with)\n",
    "ending_words = sorted(list(map(lambda word : word[-2:],filter(lambda word : len(word) > 3,all_text_without_sw.split()))))\n",
    "ew_counts = Counter(ending_words)\n",
    "top_30_ew = dict(sorted(sw_counts.items(), key=operator.itemgetter(1),reverse=True)[:30])\n",
    "training_df['Feature_11'] = training_df['text'].apply(lambda x: len([w for w in str(x).lower().split() \n",
    "                                                                     if w[:2] in top_30_ew and w not in stop_words]) )\n",
    "testing_df['Feature_11'] = testing_df['text'].apply(lambda x: len([w for w in str(x).lower().split()\n",
    "                                                                   if w[:2] in top_30_ew and w not in stop_words]) )"
   ]
  },
  {
   "cell_type": "code",
   "execution_count": 24,
   "metadata": {},
   "outputs": [],
   "source": [
    "training_df.to_csv('backup f1.csv', )\n",
    "testing_df.to_csv('testbackup f1.csv')"
   ]
  },
  {
   "cell_type": "code",
   "execution_count": 25,
   "metadata": {},
   "outputs": [
    {
     "data": {
      "text/html": [
       "<div>\n",
       "<style>\n",
       "    .dataframe thead tr:only-child th {\n",
       "        text-align: right;\n",
       "    }\n",
       "\n",
       "    .dataframe thead th {\n",
       "        text-align: left;\n",
       "    }\n",
       "\n",
       "    .dataframe tbody tr th {\n",
       "        vertical-align: top;\n",
       "    }\n",
       "</style>\n",
       "<table border=\"1\" class=\"dataframe\">\n",
       "  <thead>\n",
       "    <tr style=\"text-align: right;\">\n",
       "      <th></th>\n",
       "      <th>Unnamed: 0</th>\n",
       "      <th>id</th>\n",
       "      <th>text</th>\n",
       "      <th>author</th>\n",
       "      <th>text_backup</th>\n",
       "      <th>feature1</th>\n",
       "      <th>feature2</th>\n",
       "      <th>feature3</th>\n",
       "      <th>Feature4</th>\n",
       "      <th>Feature5</th>\n",
       "      <th>Feature6</th>\n",
       "      <th>Feature7</th>\n",
       "      <th>Feature8</th>\n",
       "      <th>Feature9</th>\n",
       "      <th>Feature_10</th>\n",
       "      <th>Feature_11</th>\n",
       "    </tr>\n",
       "  </thead>\n",
       "  <tbody>\n",
       "    <tr>\n",
       "      <th>0</th>\n",
       "      <td>0</td>\n",
       "      <td>id26305</td>\n",
       "      <td>process  however  afforded means ascertaining ...</td>\n",
       "      <td>EAP</td>\n",
       "      <td>This process, however, afforded me no means of...</td>\n",
       "      <td>41</td>\n",
       "      <td>231</td>\n",
       "      <td>5.634146</td>\n",
       "      <td>19</td>\n",
       "      <td>3</td>\n",
       "      <td>0</td>\n",
       "      <td>7</td>\n",
       "      <td>0</td>\n",
       "      <td>0</td>\n",
       "      <td>12</td>\n",
       "      <td>12</td>\n",
       "    </tr>\n",
       "    <tr>\n",
       "      <th>1</th>\n",
       "      <td>1</td>\n",
       "      <td>id17569</td>\n",
       "      <td>never occurred fumbling might mere mistake</td>\n",
       "      <td>HPL</td>\n",
       "      <td>It never once occurred to me that the fumbling...</td>\n",
       "      <td>14</td>\n",
       "      <td>71</td>\n",
       "      <td>5.071429</td>\n",
       "      <td>8</td>\n",
       "      <td>2</td>\n",
       "      <td>0</td>\n",
       "      <td>1</td>\n",
       "      <td>0</td>\n",
       "      <td>0</td>\n",
       "      <td>2</td>\n",
       "      <td>2</td>\n",
       "    </tr>\n",
       "    <tr>\n",
       "      <th>2</th>\n",
       "      <td>2</td>\n",
       "      <td>id11008</td>\n",
       "      <td>left hand gold snuff box  capered hill  cuttin...</td>\n",
       "      <td>EAP</td>\n",
       "      <td>In his left hand was a gold snuff box, from wh...</td>\n",
       "      <td>36</td>\n",
       "      <td>200</td>\n",
       "      <td>5.555556</td>\n",
       "      <td>16</td>\n",
       "      <td>0</td>\n",
       "      <td>1</td>\n",
       "      <td>5</td>\n",
       "      <td>0</td>\n",
       "      <td>0</td>\n",
       "      <td>7</td>\n",
       "      <td>7</td>\n",
       "    </tr>\n",
       "    <tr>\n",
       "      <th>3</th>\n",
       "      <td>3</td>\n",
       "      <td>id27763</td>\n",
       "      <td>lovely spring looked windsor terrace sixteen f...</td>\n",
       "      <td>MWS</td>\n",
       "      <td>How lovely is spring As we looked from Windsor...</td>\n",
       "      <td>34</td>\n",
       "      <td>206</td>\n",
       "      <td>6.058824</td>\n",
       "      <td>13</td>\n",
       "      <td>1</td>\n",
       "      <td>0</td>\n",
       "      <td>4</td>\n",
       "      <td>0</td>\n",
       "      <td>0</td>\n",
       "      <td>10</td>\n",
       "      <td>10</td>\n",
       "    </tr>\n",
       "    <tr>\n",
       "      <th>4</th>\n",
       "      <td>4</td>\n",
       "      <td>id12958</td>\n",
       "      <td>finding nothing else  even gold  superintenden...</td>\n",
       "      <td>HPL</td>\n",
       "      <td>Finding nothing else, not even gold, the Super...</td>\n",
       "      <td>27</td>\n",
       "      <td>174</td>\n",
       "      <td>6.444444</td>\n",
       "      <td>11</td>\n",
       "      <td>1</td>\n",
       "      <td>0</td>\n",
       "      <td>4</td>\n",
       "      <td>0</td>\n",
       "      <td>0</td>\n",
       "      <td>7</td>\n",
       "      <td>7</td>\n",
       "    </tr>\n",
       "  </tbody>\n",
       "</table>\n",
       "</div>"
      ],
      "text/plain": [
       "   Unnamed: 0       id                                               text  \\\n",
       "0           0  id26305  process  however  afforded means ascertaining ...   \n",
       "1           1  id17569        never occurred fumbling might mere mistake    \n",
       "2           2  id11008  left hand gold snuff box  capered hill  cuttin...   \n",
       "3           3  id27763  lovely spring looked windsor terrace sixteen f...   \n",
       "4           4  id12958  finding nothing else  even gold  superintenden...   \n",
       "\n",
       "  author                                        text_backup  feature1  \\\n",
       "0    EAP  This process, however, afforded me no means of...        41   \n",
       "1    HPL  It never once occurred to me that the fumbling...        14   \n",
       "2    EAP  In his left hand was a gold snuff box, from wh...        36   \n",
       "3    MWS  How lovely is spring As we looked from Windsor...        34   \n",
       "4    HPL  Finding nothing else, not even gold, the Super...        27   \n",
       "\n",
       "   feature2  feature3  Feature4  Feature5  Feature6  Feature7  Feature8  \\\n",
       "0       231  5.634146        19         3         0         7         0   \n",
       "1        71  5.071429         8         2         0         1         0   \n",
       "2       200  5.555556        16         0         1         5         0   \n",
       "3       206  6.058824        13         1         0         4         0   \n",
       "4       174  6.444444        11         1         0         4         0   \n",
       "\n",
       "   Feature9  Feature_10  Feature_11  \n",
       "0         0          12          12  \n",
       "1         0           2           2  \n",
       "2         0           7           7  \n",
       "3         0          10          10  \n",
       "4         0           7           7  "
      ]
     },
     "execution_count": 25,
     "metadata": {},
     "output_type": "execute_result"
    }
   ],
   "source": [
    "training_df.head()"
   ]
  },
  {
   "cell_type": "code",
   "execution_count": 46,
   "metadata": {},
   "outputs": [],
   "source": [
    "training_df= pd.read_csv('backup f1.csv', encoding='latin-1')\n",
    "testing_df=pd.read_csv('testbackup f1.csv', encoding='latin-1')"
   ]
  },
  {
   "cell_type": "code",
   "execution_count": 5,
   "metadata": {},
   "outputs": [
    {
     "data": {
      "text/html": [
       "<div>\n",
       "<style>\n",
       "    .dataframe thead tr:only-child th {\n",
       "        text-align: right;\n",
       "    }\n",
       "\n",
       "    .dataframe thead th {\n",
       "        text-align: left;\n",
       "    }\n",
       "\n",
       "    .dataframe tbody tr th {\n",
       "        vertical-align: top;\n",
       "    }\n",
       "</style>\n",
       "<table border=\"1\" class=\"dataframe\">\n",
       "  <thead>\n",
       "    <tr style=\"text-align: right;\">\n",
       "      <th></th>\n",
       "      <th>Unnamed: 0</th>\n",
       "      <th>Unnamed: 0.1</th>\n",
       "      <th>id</th>\n",
       "      <th>text</th>\n",
       "      <th>author</th>\n",
       "      <th>text_backup</th>\n",
       "      <th>feature1</th>\n",
       "      <th>feature2</th>\n",
       "      <th>feature3</th>\n",
       "      <th>Feature4</th>\n",
       "      <th>Feature5</th>\n",
       "      <th>Feature6</th>\n",
       "      <th>Feature7</th>\n",
       "      <th>Feature8</th>\n",
       "      <th>Feature9</th>\n",
       "      <th>Feature_10</th>\n",
       "      <th>Feature_11</th>\n",
       "    </tr>\n",
       "  </thead>\n",
       "  <tbody>\n",
       "    <tr>\n",
       "      <th>0</th>\n",
       "      <td>0</td>\n",
       "      <td>0</td>\n",
       "      <td>id26305</td>\n",
       "      <td>process  however  afforded means ascertaining ...</td>\n",
       "      <td>EAP</td>\n",
       "      <td>This process, however, afforded me no means of...</td>\n",
       "      <td>41</td>\n",
       "      <td>231</td>\n",
       "      <td>5.634146</td>\n",
       "      <td>19</td>\n",
       "      <td>3</td>\n",
       "      <td>0</td>\n",
       "      <td>7</td>\n",
       "      <td>0</td>\n",
       "      <td>0</td>\n",
       "      <td>12</td>\n",
       "      <td>12</td>\n",
       "    </tr>\n",
       "    <tr>\n",
       "      <th>1</th>\n",
       "      <td>1</td>\n",
       "      <td>1</td>\n",
       "      <td>id17569</td>\n",
       "      <td>never occurred fumbling might mere mistake</td>\n",
       "      <td>HPL</td>\n",
       "      <td>It never once occurred to me that the fumbling...</td>\n",
       "      <td>14</td>\n",
       "      <td>71</td>\n",
       "      <td>5.071429</td>\n",
       "      <td>8</td>\n",
       "      <td>2</td>\n",
       "      <td>0</td>\n",
       "      <td>1</td>\n",
       "      <td>0</td>\n",
       "      <td>0</td>\n",
       "      <td>2</td>\n",
       "      <td>2</td>\n",
       "    </tr>\n",
       "    <tr>\n",
       "      <th>2</th>\n",
       "      <td>2</td>\n",
       "      <td>2</td>\n",
       "      <td>id11008</td>\n",
       "      <td>left hand gold snuff box  capered hill  cuttin...</td>\n",
       "      <td>EAP</td>\n",
       "      <td>In his left hand was a gold snuff box, from wh...</td>\n",
       "      <td>36</td>\n",
       "      <td>200</td>\n",
       "      <td>5.555556</td>\n",
       "      <td>16</td>\n",
       "      <td>0</td>\n",
       "      <td>1</td>\n",
       "      <td>5</td>\n",
       "      <td>0</td>\n",
       "      <td>0</td>\n",
       "      <td>7</td>\n",
       "      <td>7</td>\n",
       "    </tr>\n",
       "    <tr>\n",
       "      <th>3</th>\n",
       "      <td>3</td>\n",
       "      <td>3</td>\n",
       "      <td>id27763</td>\n",
       "      <td>lovely spring looked windsor terrace sixteen f...</td>\n",
       "      <td>MWS</td>\n",
       "      <td>How lovely is spring As we looked from Windsor...</td>\n",
       "      <td>34</td>\n",
       "      <td>206</td>\n",
       "      <td>6.058824</td>\n",
       "      <td>13</td>\n",
       "      <td>1</td>\n",
       "      <td>0</td>\n",
       "      <td>4</td>\n",
       "      <td>0</td>\n",
       "      <td>0</td>\n",
       "      <td>10</td>\n",
       "      <td>10</td>\n",
       "    </tr>\n",
       "    <tr>\n",
       "      <th>4</th>\n",
       "      <td>4</td>\n",
       "      <td>4</td>\n",
       "      <td>id12958</td>\n",
       "      <td>finding nothing else  even gold  superintenden...</td>\n",
       "      <td>HPL</td>\n",
       "      <td>Finding nothing else, not even gold, the Super...</td>\n",
       "      <td>27</td>\n",
       "      <td>174</td>\n",
       "      <td>6.444444</td>\n",
       "      <td>11</td>\n",
       "      <td>1</td>\n",
       "      <td>0</td>\n",
       "      <td>4</td>\n",
       "      <td>0</td>\n",
       "      <td>0</td>\n",
       "      <td>7</td>\n",
       "      <td>7</td>\n",
       "    </tr>\n",
       "  </tbody>\n",
       "</table>\n",
       "</div>"
      ],
      "text/plain": [
       "   Unnamed: 0  Unnamed: 0.1       id  \\\n",
       "0           0             0  id26305   \n",
       "1           1             1  id17569   \n",
       "2           2             2  id11008   \n",
       "3           3             3  id27763   \n",
       "4           4             4  id12958   \n",
       "\n",
       "                                                text author  \\\n",
       "0  process  however  afforded means ascertaining ...    EAP   \n",
       "1        never occurred fumbling might mere mistake     HPL   \n",
       "2  left hand gold snuff box  capered hill  cuttin...    EAP   \n",
       "3  lovely spring looked windsor terrace sixteen f...    MWS   \n",
       "4  finding nothing else  even gold  superintenden...    HPL   \n",
       "\n",
       "                                         text_backup  feature1  feature2  \\\n",
       "0  This process, however, afforded me no means of...        41       231   \n",
       "1  It never once occurred to me that the fumbling...        14        71   \n",
       "2  In his left hand was a gold snuff box, from wh...        36       200   \n",
       "3  How lovely is spring As we looked from Windsor...        34       206   \n",
       "4  Finding nothing else, not even gold, the Super...        27       174   \n",
       "\n",
       "   feature3  Feature4  Feature5  Feature6  Feature7  Feature8  Feature9  \\\n",
       "0  5.634146        19         3         0         7         0         0   \n",
       "1  5.071429         8         2         0         1         0         0   \n",
       "2  5.555556        16         0         1         5         0         0   \n",
       "3  6.058824        13         1         0         4         0         0   \n",
       "4  6.444444        11         1         0         4         0         0   \n",
       "\n",
       "   Feature_10  Feature_11  \n",
       "0          12          12  \n",
       "1           2           2  \n",
       "2           7           7  \n",
       "3          10          10  \n",
       "4           7           7  "
      ]
     },
     "execution_count": 5,
     "metadata": {},
     "output_type": "execute_result"
    }
   ],
   "source": [
    "training_df.head()"
   ]
  },
  {
   "cell_type": "code",
   "execution_count": 47,
   "metadata": {},
   "outputs": [],
   "source": [
    "training_df=training_df.drop(['Unnamed: 0.1','Unnamed: 0','id','text_backup','text'],1)"
   ]
  },
  {
   "cell_type": "code",
   "execution_count": 48,
   "metadata": {},
   "outputs": [],
   "source": [
    "testing_df=testing_df.drop(['Unnamed: 0.1','Unnamed: 0','id','text_backup','text'],1)"
   ]
  },
  {
   "cell_type": "code",
   "execution_count": 14,
   "metadata": {},
   "outputs": [
    {
     "data": {
      "text/html": [
       "<div>\n",
       "<style>\n",
       "    .dataframe thead tr:only-child th {\n",
       "        text-align: right;\n",
       "    }\n",
       "\n",
       "    .dataframe thead th {\n",
       "        text-align: left;\n",
       "    }\n",
       "\n",
       "    .dataframe tbody tr th {\n",
       "        vertical-align: top;\n",
       "    }\n",
       "</style>\n",
       "<table border=\"1\" class=\"dataframe\">\n",
       "  <thead>\n",
       "    <tr style=\"text-align: right;\">\n",
       "      <th></th>\n",
       "      <th>author</th>\n",
       "      <th>feature1</th>\n",
       "      <th>feature2</th>\n",
       "      <th>feature3</th>\n",
       "      <th>Feature4</th>\n",
       "      <th>Feature5</th>\n",
       "      <th>Feature6</th>\n",
       "      <th>Feature7</th>\n",
       "      <th>Feature8</th>\n",
       "      <th>Feature9</th>\n",
       "      <th>Feature_10</th>\n",
       "      <th>Feature_11</th>\n",
       "    </tr>\n",
       "  </thead>\n",
       "  <tbody>\n",
       "    <tr>\n",
       "      <th>0</th>\n",
       "      <td>EAP</td>\n",
       "      <td>41</td>\n",
       "      <td>231</td>\n",
       "      <td>5.634146</td>\n",
       "      <td>19</td>\n",
       "      <td>3</td>\n",
       "      <td>0</td>\n",
       "      <td>7</td>\n",
       "      <td>0</td>\n",
       "      <td>0</td>\n",
       "      <td>12</td>\n",
       "      <td>12</td>\n",
       "    </tr>\n",
       "    <tr>\n",
       "      <th>1</th>\n",
       "      <td>HPL</td>\n",
       "      <td>14</td>\n",
       "      <td>71</td>\n",
       "      <td>5.071429</td>\n",
       "      <td>8</td>\n",
       "      <td>2</td>\n",
       "      <td>0</td>\n",
       "      <td>1</td>\n",
       "      <td>0</td>\n",
       "      <td>0</td>\n",
       "      <td>2</td>\n",
       "      <td>2</td>\n",
       "    </tr>\n",
       "    <tr>\n",
       "      <th>2</th>\n",
       "      <td>EAP</td>\n",
       "      <td>36</td>\n",
       "      <td>200</td>\n",
       "      <td>5.555556</td>\n",
       "      <td>16</td>\n",
       "      <td>0</td>\n",
       "      <td>1</td>\n",
       "      <td>5</td>\n",
       "      <td>0</td>\n",
       "      <td>0</td>\n",
       "      <td>7</td>\n",
       "      <td>7</td>\n",
       "    </tr>\n",
       "    <tr>\n",
       "      <th>3</th>\n",
       "      <td>MWS</td>\n",
       "      <td>34</td>\n",
       "      <td>206</td>\n",
       "      <td>6.058824</td>\n",
       "      <td>13</td>\n",
       "      <td>1</td>\n",
       "      <td>0</td>\n",
       "      <td>4</td>\n",
       "      <td>0</td>\n",
       "      <td>0</td>\n",
       "      <td>10</td>\n",
       "      <td>10</td>\n",
       "    </tr>\n",
       "    <tr>\n",
       "      <th>4</th>\n",
       "      <td>HPL</td>\n",
       "      <td>27</td>\n",
       "      <td>174</td>\n",
       "      <td>6.444444</td>\n",
       "      <td>11</td>\n",
       "      <td>1</td>\n",
       "      <td>0</td>\n",
       "      <td>4</td>\n",
       "      <td>0</td>\n",
       "      <td>0</td>\n",
       "      <td>7</td>\n",
       "      <td>7</td>\n",
       "    </tr>\n",
       "  </tbody>\n",
       "</table>\n",
       "</div>"
      ],
      "text/plain": [
       "  author  feature1  feature2  feature3  Feature4  Feature5  Feature6  \\\n",
       "0    EAP        41       231  5.634146        19         3         0   \n",
       "1    HPL        14        71  5.071429         8         2         0   \n",
       "2    EAP        36       200  5.555556        16         0         1   \n",
       "3    MWS        34       206  6.058824        13         1         0   \n",
       "4    HPL        27       174  6.444444        11         1         0   \n",
       "\n",
       "   Feature7  Feature8  Feature9  Feature_10  Feature_11  \n",
       "0         7         0         0          12          12  \n",
       "1         1         0         0           2           2  \n",
       "2         5         0         0           7           7  \n",
       "3         4         0         0          10          10  \n",
       "4         4         0         0           7           7  "
      ]
     },
     "execution_count": 14,
     "metadata": {},
     "output_type": "execute_result"
    }
   ],
   "source": [
    "training_df.head()"
   ]
  },
  {
   "cell_type": "code",
   "execution_count": 49,
   "metadata": {},
   "outputs": [
    {
     "data": {
      "text/plain": [
       "EAP    7900\n",
       "MWS    6044\n",
       "HPL    5635\n",
       "Name: author, dtype: int64"
      ]
     },
     "execution_count": 49,
     "metadata": {},
     "output_type": "execute_result"
    }
   ],
   "source": [
    "training_df['author'].value_counts()"
   ]
  },
  {
   "cell_type": "code",
   "execution_count": 50,
   "metadata": {},
   "outputs": [],
   "source": [
    "di = {'EAP': 0,'HPL':1, 'MWS':2}\n",
    "training_df=training_df.replace({\"author\": di})\n",
    "testing_df=testing_df.replace({\"author\": di})"
   ]
  },
  {
   "cell_type": "code",
   "execution_count": 51,
   "metadata": {},
   "outputs": [],
   "source": [
    "testing_df=testing_df.replace({\"author\": di})"
   ]
  },
  {
   "cell_type": "code",
   "execution_count": 72,
   "metadata": {},
   "outputs": [],
   "source": [
    "y=training_df['author']\n",
    "X=training_df.drop(['author'],1)\n",
    "y=pd.get_dummies(y)"
   ]
  },
  {
   "cell_type": "code",
   "execution_count": 88,
   "metadata": {},
   "outputs": [
    {
     "data": {
      "text/html": [
       "<div>\n",
       "<style>\n",
       "    .dataframe thead tr:only-child th {\n",
       "        text-align: right;\n",
       "    }\n",
       "\n",
       "    .dataframe thead th {\n",
       "        text-align: left;\n",
       "    }\n",
       "\n",
       "    .dataframe tbody tr th {\n",
       "        vertical-align: top;\n",
       "    }\n",
       "</style>\n",
       "<table border=\"1\" class=\"dataframe\">\n",
       "  <thead>\n",
       "    <tr style=\"text-align: right;\">\n",
       "      <th></th>\n",
       "      <th>0</th>\n",
       "      <th>1</th>\n",
       "      <th>2</th>\n",
       "    </tr>\n",
       "  </thead>\n",
       "  <tbody>\n",
       "    <tr>\n",
       "      <th>0</th>\n",
       "      <td>1</td>\n",
       "      <td>0</td>\n",
       "      <td>0</td>\n",
       "    </tr>\n",
       "    <tr>\n",
       "      <th>1</th>\n",
       "      <td>0</td>\n",
       "      <td>1</td>\n",
       "      <td>0</td>\n",
       "    </tr>\n",
       "    <tr>\n",
       "      <th>2</th>\n",
       "      <td>1</td>\n",
       "      <td>0</td>\n",
       "      <td>0</td>\n",
       "    </tr>\n",
       "    <tr>\n",
       "      <th>3</th>\n",
       "      <td>0</td>\n",
       "      <td>0</td>\n",
       "      <td>1</td>\n",
       "    </tr>\n",
       "    <tr>\n",
       "      <th>4</th>\n",
       "      <td>0</td>\n",
       "      <td>1</td>\n",
       "      <td>0</td>\n",
       "    </tr>\n",
       "  </tbody>\n",
       "</table>\n",
       "</div>"
      ],
      "text/plain": [
       "   0  1  2\n",
       "0  1  0  0\n",
       "1  0  1  0\n",
       "2  1  0  0\n",
       "3  0  0  1\n",
       "4  0  1  0"
      ]
     },
     "execution_count": 88,
     "metadata": {},
     "output_type": "execute_result"
    }
   ],
   "source": [
    "y.head()"
   ]
  },
  {
   "cell_type": "code",
   "execution_count": 89,
   "metadata": {},
   "outputs": [],
   "source": [
    "from sklearn.model_selection import train_test_split\n",
    "Xtrain,Xtest,ytrain,ytest=train_test_split(X,y, test_size=0.33, random_state=42)"
   ]
  },
  {
   "cell_type": "code",
   "execution_count": 91,
   "metadata": {},
   "outputs": [],
   "source": [
    "#converting to matrix\n",
    "#Xtrain=Xtrain.values\n",
    "ytrain=ytrain.values\n",
    "#Xtest=Xtest.values\n",
    "ytest=ytest.values"
   ]
  },
  {
   "cell_type": "markdown",
   "metadata": {},
   "source": [
    "# building the architecture of keras model\n",
    "\n"
   ]
  },
  {
   "cell_type": "code",
   "execution_count": 23,
   "metadata": {},
   "outputs": [],
   "source": [
    "import keras\n",
    "from keras.models import Sequential\n",
    "from keras.layers import Dense"
   ]
  },
  {
   "cell_type": "code",
   "execution_count": 26,
   "metadata": {},
   "outputs": [
    {
     "data": {
      "text/plain": [
       "(19579, 12)"
      ]
     },
     "execution_count": 26,
     "metadata": {},
     "output_type": "execute_result"
    }
   ],
   "source": [
    "classifier=Sequential() \n",
    "training_df.shape"
   ]
  },
  {
   "cell_type": "code",
   "execution_count": 85,
   "metadata": {},
   "outputs": [],
   "source": [
    "classifier.add(Dense(units=10, kernel_initializer=\"uniform\",activation='relu',input_dim=11))\n",
    "classifier.add(Dense(units=8, kernel_initializer=\"uniform\", activation='softmax'))\n",
    "classifier.add(Dense(units=6, kernel_initializer=\"uniform\", activation='relu'))\n",
    "classifier.add(Dense(units=3, activation='softmax'))"
   ]
  },
  {
   "cell_type": "code",
   "execution_count": 93,
   "metadata": {},
   "outputs": [
    {
     "name": "stdout",
     "output_type": "stream",
     "text": [
      "Epoch 1/10\n",
      "13117/13117 [==============================] - 7s - loss: 1.0873 - acc: 0.4050     \n",
      "Epoch 2/10\n",
      "13117/13117 [==============================] - 6s - loss: 1.0873 - acc: 0.4050     \n",
      "Epoch 3/10\n",
      "13117/13117 [==============================] - 6s - loss: 1.0873 - acc: 0.4050     \n",
      "Epoch 4/10\n",
      "13117/13117 [==============================] - 6s - loss: 1.0873 - acc: 0.4050     \n",
      "Epoch 5/10\n",
      "13117/13117 [==============================] - 6s - loss: 1.0874 - acc: 0.4050     \n",
      "Epoch 6/10\n",
      "13117/13117 [==============================] - 6s - loss: 1.0873 - acc: 0.4050     \n",
      "Epoch 7/10\n",
      "13117/13117 [==============================] - 6s - loss: 1.0874 - acc: 0.4050     \n",
      "Epoch 8/10\n",
      "13117/13117 [==============================] - 6s - loss: 1.0874 - acc: 0.4050     \n",
      "Epoch 9/10\n",
      "13117/13117 [==============================] - 6s - loss: 1.0874 - acc: 0.4050     \n",
      "Epoch 10/10\n",
      "13117/13117 [==============================] - 6s - loss: 1.0873 - acc: 0.4050     \n"
     ]
    },
    {
     "data": {
      "text/plain": [
       "<keras.callbacks.History at 0x2f0fae80>"
      ]
     },
     "execution_count": 93,
     "metadata": {},
     "output_type": "execute_result"
    }
   ],
   "source": [
    "classifier.compile(optimizer='adam',loss='categorical_crossentropy', metrics=['accuracy'])\n",
    "classifier.fit(Xtrain,ytrain,batch_size=5, epochs=10)"
   ]
  },
  {
   "cell_type": "code",
   "execution_count": 94,
   "metadata": {},
   "outputs": [],
   "source": [
    "from sklearn.ensemble import RandomForestClassifier"
   ]
  },
  {
   "cell_type": "code",
   "execution_count": 95,
   "metadata": {},
   "outputs": [],
   "source": [
    "ry=training_df['author']\n",
    "rX=training_df.drop(['author'],1)"
   ]
  },
  {
   "cell_type": "code",
   "execution_count": 96,
   "metadata": {},
   "outputs": [],
   "source": [
    "rXtrain,rXtest,rytrain,rytest=train_test_split(rX,ry, test_size=0.33, random_state=42)\n",
    "\n",
    "\n"
   ]
  },
  {
   "cell_type": "code",
   "execution_count": 97,
   "metadata": {},
   "outputs": [
    {
     "data": {
      "text/plain": [
       "RandomForestClassifier(bootstrap=True, class_weight=None, criterion='gini',\n",
       "            max_depth=None, max_features='auto', max_leaf_nodes=None,\n",
       "            min_impurity_decrease=0.0, min_impurity_split=None,\n",
       "            min_samples_leaf=1, min_samples_split=2,\n",
       "            min_weight_fraction_leaf=0.0, n_estimators=10, n_jobs=1,\n",
       "            oob_score=False, random_state=None, verbose=0,\n",
       "            warm_start=False)"
      ]
     },
     "execution_count": 97,
     "metadata": {},
     "output_type": "execute_result"
    }
   ],
   "source": [
    "clf=RandomForestClassifier()\n",
    "clf.fit(rXtrain,rytrain)"
   ]
  },
  {
   "cell_type": "code",
   "execution_count": 99,
   "metadata": {},
   "outputs": [
    {
     "name": "stdout",
     "output_type": "stream",
     "text": [
      "[ 0.44591813  0.43664227  0.42840805]\n"
     ]
    }
   ],
   "source": [
    "from sklearn.model_selection import cross_val_score\n",
    "print(cross_val_score(clf, rXtrain, rytrain))"
   ]
  },
  {
   "cell_type": "code",
   "execution_count": null,
   "metadata": {},
   "outputs": [],
   "source": []
  }
 ],
 "metadata": {
  "kernelspec": {
   "display_name": "Python 3",
   "language": "python",
   "name": "python3"
  },
  "language_info": {
   "codemirror_mode": {
    "name": "ipython",
    "version": 3
   },
   "file_extension": ".py",
   "mimetype": "text/x-python",
   "name": "python",
   "nbconvert_exporter": "python",
   "pygments_lexer": "ipython3",
   "version": "3.6.1"
  }
 },
 "nbformat": 4,
 "nbformat_minor": 2
}
